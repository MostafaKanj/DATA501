{
  "nbformat": 4,
  "nbformat_minor": 0,
  "metadata": {
    "colab": {
      "provenance": []
    },
    "kernelspec": {
      "name": "python3",
      "display_name": "Python 3"
    },
    "language_info": {
      "name": "python"
    }
  },
  "cells": [
    {
      "cell_type": "code",
      "source": [
        "# create dataframe\n",
        "import pandas as pd\n",
        "df = pd.DataFrame()"
      ],
      "metadata": {
        "id": "P31GEspCMKsN"
      },
      "execution_count": null,
      "outputs": []
    },
    {
      "cell_type": "code",
      "source": [
        "# simulate surface current, tidal currents, wind, wind-generated waves, Coriolis Effect, water temperature, water salinity, density of sargassum, ocean oxygen level, seawater contamination for sargussum growth\n",
        "import numpy as np\n",
        "import matplotlib.pyplot as plt\n",
        "from datetime import datetime, timedelta\n",
        "\n",
        "# Constants\n",
        "EARTH_RADIUS = 6371000  # Earth's radius in meters\n",
        "OMEGA = 7.2921e-5  # Earth's angular velocity in rad/s\n",
        "GRAVITY = 9.81  # Acceleration due to gravity in m/s²\n",
        "WATER_DENSITY = 1025  # Seawater density in kg/m³\n",
        "SARGASSUM_DENSITY = 800  # Sargassum density in kg/m³ (approximate)\n",
        "\n",
        "# Simulation parameters\n",
        "start_date = datetime(2024, 10, 1)  # Start date: October 1, 2023\n",
        "end_date = datetime(2024, 10, 15)  # End date: October 15, 2023\n",
        "time_step = 5 * 60  # Time step in seconds (5 minutes)\n",
        "num_steps = int((end_date - start_date).total_seconds() / time_step)  # Total records\n",
        "\n",
        "# Caribbean Sea parameters (below Jamaica)\n",
        "initial_lat = 16.0  # Starting latitude (e.g., south of Jamaica)\n",
        "initial_lon = -76.0  # Starting longitude (e.g., south of Jamaica)\n",
        "caribbean_current_speed = 0.3  # Caribbean Current speed in m/s (approximate)\n",
        "caribbean_tidal_speed = 0.05  # Tidal current speed in m/s (approximate)\n",
        "caribbean_wind_speed = 6.0  # Average wind speed in m/s (trade winds)\n",
        "caribbean_temperature = 29.0  # Average water temperature in °C\n",
        "caribbean_salinity = 35.5  # Average salinity in PSU\n",
        "caribbean_oxygen_level = 5.5  # Average oxygen level in mg/L\n",
        "\n",
        "# Initialize arrays to store results\n",
        "time = [start_date + timedelta(seconds=time_step * i) for i in range(num_steps)]\n",
        "position = np.zeros((num_steps, 2))  # Latitude and longitude\n",
        "current_velocity = np.zeros((num_steps, 2))  # Surface current velocity\n",
        "tidal_velocity = np.zeros((num_steps, 2))  # Tidal current velocity\n",
        "wind_velocity = np.zeros((num_steps, 2))  # Wind velocity\n",
        "wave_velocity = np.zeros((num_steps, 2))  # Wind-generated wave velocity\n",
        "coriolis_effect = np.zeros((num_steps, 2))  # Coriolis effect\n",
        "temperature = np.zeros(num_steps)  # Water temperature\n",
        "salinity = np.zeros(num_steps)  # Water salinity\n",
        "density = np.zeros(num_steps)  # Water density\n",
        "oxygen_level = np.zeros(num_steps)  # Ocean oxygen level\n",
        "contamination = np.zeros(num_steps)  # Seawater contamination\n",
        "\n",
        "# Initial conditions\n",
        "position[0] = [initial_lat, initial_lon]  # Starting position\n",
        "temperature[0] = caribbean_temperature  # Initial water temperature\n",
        "salinity[0] = caribbean_salinity  # Initial salinity\n",
        "oxygen_level[0] = caribbean_oxygen_level  # Initial oxygen level\n",
        "contamination[0] = 0  # Initial contamination level\n",
        "\n",
        "# Functions to simulate each factor\n",
        "def simulate_surface_current(t):\n",
        "    # Caribbean Current: Eastward and northward components\n",
        "    u = caribbean_current_speed * np.sin(2 * np.pi * t / (12 * 3600))  # Eastward component in m/s\n",
        "    v = caribbean_current_speed * np.cos(2 * np.pi * t / (12 * 3600))  # Northward component in m/s\n",
        "    return np.array([u, v])\n",
        "\n",
        "def simulate_tidal_current(t):\n",
        "    # Tidal current with semi-diurnal period\n",
        "    u = caribbean_tidal_speed * np.sin(2 * np.pi * t / (12.42 * 3600))  # Eastward component in m/s\n",
        "    v = caribbean_tidal_speed * np.cos(2 * np.pi * t / (12.42 * 3600))  # Northward component in m/s\n",
        "    return np.array([u, v])\n",
        "\n",
        "def simulate_wind(t):\n",
        "    # Trade winds: Eastward and northward components\n",
        "    u = caribbean_wind_speed * np.sin(2 * np.pi * t / (24 * 3600))  # Eastward component in m/s\n",
        "    v = caribbean_wind_speed * np.cos(2 * np.pi * t / (24 * 3600))  # Northward component in m/s\n",
        "    return np.array([u, v])\n",
        "\n",
        "def simulate_wind_generated_waves(wind_speed):\n",
        "    # Wave velocity based on wind speed (empirical relationship)\n",
        "    wave_speed = 0.03 * wind_speed  # Wave speed as a fraction of wind speed\n",
        "    return wave_speed\n",
        "\n",
        "def simulate_coriolis_effect(latitude, velocity):\n",
        "    # Coriolis parameter: f = 2 * Omega * sin(latitude)\n",
        "    f = 2 * OMEGA * np.sin(np.radians(latitude))\n",
        "    # Coriolis acceleration: a = f * v (perpendicular to velocity)\n",
        "    a = f * np.array([-velocity[1], velocity[0]])\n",
        "    return a\n",
        "\n",
        "def simulate_water_temperature(t):\n",
        "    # Diurnal temperature variation\n",
        "    return caribbean_temperature + 2 * np.sin(2 * np.pi * t / (24 * 3600))\n",
        "\n",
        "def simulate_water_salinity(t):\n",
        "    # Salinity variation due to evaporation/precipitation\n",
        "    return caribbean_salinity + 0.5 * np.sin(2 * np.pi * t / (24 * 3600))\n",
        "\n",
        "def simulate_density(temperature, salinity):\n",
        "    # Simplified density calculation (UNESCO equation approximation)\n",
        "    return WATER_DENSITY + 0.8 * (salinity - 35) - 0.2 * (temperature - 25)\n",
        "\n",
        "def simulate_ocean_oxygen_level(t):\n",
        "    # Oxygen level variation due to photosynthesis/respiration\n",
        "    return caribbean_oxygen_level + 1 * np.sin(2 * np.pi * t / (24 * 3600))\n",
        "\n",
        "def simulate_seawater_contamination(t):\n",
        "    # Contamination level increasing over time\n",
        "    return 0.1 * t / (24 * 3600)\n",
        "\n",
        "# Main simulation loop\n",
        "for i in range(1, num_steps):\n",
        "    t = (time[i] - start_date).total_seconds()  # Time in seconds since start\n",
        "\n",
        "    # Simulate factors\n",
        "    current_velocity[i] = simulate_surface_current(t)\n",
        "    tidal_velocity[i] = simulate_tidal_current(t)\n",
        "    wind_velocity[i] = simulate_wind(t)\n",
        "    wave_velocity[i] = simulate_wind_generated_waves(np.linalg.norm(wind_velocity[i]))\n",
        "    coriolis_effect[i] = simulate_coriolis_effect(position[i-1, 0], current_velocity[i] + tidal_velocity[i])\n",
        "    temperature[i] = simulate_water_temperature(t)\n",
        "    salinity[i] = simulate_water_salinity(t)\n",
        "    density[i] = simulate_density(temperature[i], salinity[i])\n",
        "    oxygen_level[i] = simulate_ocean_oxygen_level(t)\n",
        "    contamination[i] = simulate_seawater_contamination(t)\n",
        "\n",
        "    # Update position (latitude and longitude)\n",
        "    total_velocity = current_velocity[i] + tidal_velocity[i] + wind_velocity[i] * 0.02 + coriolis_effect[i] * time_step\n",
        "    position[i] = position[i-1] + total_velocity * time_step / (EARTH_RADIUS * np.pi / 180)\n",
        "\n",
        "data = {\n",
        "    \"timestamp\": time,\n",
        "    \"Current_Velocity_U\": current_velocity[:, 0],  # Eastward current velocity\n",
        "    \"Current_Velocity_V\": current_velocity[:, 1],  # Northward current velocity\n",
        "    \"Tidal_Velocity_U\": tidal_velocity[:, 0],  # Eastward tidal velocity\n",
        "    \"Tidal_Velocity_V\": tidal_velocity[:, 1],  # Northward tidal velocity\n",
        "    \"Wind_Velocity_U\": wind_velocity[:, 0],  # Eastward wind velocity\n",
        "    \"Wind_Velocity_V\": wind_velocity[:, 1],  # Northward wind velocity\n",
        "    \"Wave_Velocity\": np.linalg.norm(wave_velocity, axis=1),  # Wave speed\n",
        "    \"Coriolis_Effect_U\": coriolis_effect[:, 0],  # Eastward Coriolis effect\n",
        "    \"Coriolis_Effect_V\": coriolis_effect[:, 1],  # Northward Coriolis effect\n",
        "    \"Temperature\": temperature,  # Water temperature\n",
        "    \"Salinity\": salinity,  # Water salinity\n",
        "    \"Density\": density,  # Water density\n",
        "    \"Oxygen_Level\": oxygen_level,  # Ocean oxygen level\n",
        "    \"Contamination\": contamination,  # Seawater contamination\n",
        "}\n",
        "\n",
        "df = pd.DataFrame(data)"
      ],
      "metadata": {
        "id": "ozFpiBxzWySV"
      },
      "execution_count": null,
      "outputs": []
    },
    {
      "cell_type": "code",
      "source": [
        "# create SV latitude data with sinusoidal patterns and normally distributed noise\n",
        "import numpy as np\n",
        "start_val = 16  # Carribean sea near Jamaica\n",
        "amplitude = 0.01\n",
        "num_simulations = 4033\n",
        "frequency = 12\n",
        "noise_std = 0.001\n",
        "x = np.arange(num_simulations)\n",
        "y = start_val + amplitude * np.sin(2 * np.pi * frequency * x / num_simulations)\n",
        "noise = np.random.normal(0, noise_std, num_simulations)\n",
        "y_noisy = y + noise\n",
        "df[\"Latitude_SV\"] = pd.DataFrame(y_noisy)"
      ],
      "metadata": {
        "id": "d4UxlXg6La6B"
      },
      "execution_count": null,
      "outputs": []
    },
    {
      "cell_type": "code",
      "source": [
        "# create SV longitude data with sinusoidal patterns and normally distributed noise\n",
        "start_val = -76  # Carribean sea near Jamaica\n",
        "amplitude = 0.01\n",
        "num_simulations = 4033\n",
        "frequency = 12\n",
        "noise_std = 0.001\n",
        "x = np.arange(num_simulations)\n",
        "y = start_val + amplitude * np.sin(2 * np.pi * frequency * x / num_simulations)\n",
        "noise = np.random.normal(0, noise_std, num_simulations)\n",
        "y_noisy = y + noise\n",
        "df[\"Longitude_SV\"] = pd.DataFrame(y_noisy)"
      ],
      "metadata": {
        "id": "akP3t63zP7pL"
      },
      "execution_count": null,
      "outputs": []
    },
    {
      "cell_type": "code",
      "source": [
        "# add normally distributed error to SV data to create satellite data\n",
        "df[\"Latitude_Satellite\"] = df[\"Latitude_SV\"].values + np.random.normal(0, 0.0005, len(df))\n",
        "df[\"Longitude_Satellite\"] = df[\"Longitude_SV\"].values + np.random.normal(0, 0.0005, len(df))"
      ],
      "metadata": {
        "id": "Bh0e56BGN-r4"
      },
      "execution_count": null,
      "outputs": []
    },
    {
      "cell_type": "code",
      "source": [
        "df.to_csv(\"simulated_data_feb17.csv\")"
      ],
      "metadata": {
        "id": "VR0CDDEfWKOs"
      },
      "execution_count": null,
      "outputs": []
    },
    {
      "cell_type": "code",
      "source": [],
      "metadata": {
        "id": "23ulvuGaWNpX"
      },
      "execution_count": null,
      "outputs": []
    }
  ]
}